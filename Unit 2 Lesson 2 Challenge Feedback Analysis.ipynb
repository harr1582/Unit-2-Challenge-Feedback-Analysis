{
 "cells": [
  {
   "cell_type": "code",
   "execution_count": 2,
   "metadata": {},
   "outputs": [],
   "source": [
    "import sklearn\n",
    "import scipy\n",
    "import numpy as np\n",
    "import pandas as pd\n",
    "import seaborn as sns\n",
    "import matplotlib.pyplot as plt\n",
    "%matplotlib inline\n"
   ]
  },
  {
   "cell_type": "code",
   "execution_count": 3,
   "metadata": {},
   "outputs": [
    {
     "name": "stdout",
     "output_type": "stream",
     "text": [
      "                                             message none none_2 positive\n",
      "0                              Crust is not good.\\t0  NaN    NaN        0\n",
      "1       Not tasty and the texture was just nasty.\\t0  NaN    NaN        0\n",
      "2  Stopped by during the late May bank holiday of...  NaN    NaN        1\n",
      "3  The selection on the menu was great and so wer...  NaN    NaN        1\n",
      "4  Now I am getting angry and I want my damn pho.\\t0  NaN    NaN        0\n",
      "5           Honeslty it didn't taste THAT fresh.)\\t0  NaN    NaN        0\n",
      "6  The potatoes were like rubber and you could te...  NaN    NaN        0\n",
      "7                       The fries were great too.\\t1  NaN    NaN        1\n",
      "8                                  A great touch.\\t1  NaN    NaN        1\n",
      "9                        Service was very prompt.\\t1  NaN    NaN        1\n"
     ]
    }
   ],
   "source": [
    "df = pd.read_fwf(r'C:\\Users\\harr1\\Desktop\\Thinkful\\yelp_labelled.txt')\n",
    "df.columns = ['message', 'none', 'none_2']\n",
    "df['positive'] = df.message.str[-1]\n",
    "print (df.head(10))"
   ]
  },
  {
   "cell_type": "code",
   "execution_count": 4,
   "metadata": {},
   "outputs": [],
   "source": [
    "keywords = ['excellent', 'tasty', 'love', 'favorite', 'exceptional', 'great', 'good']\n",
    "\n",
    "for each in keywords:\n",
    "    df[str(each)] = df.message.str.contains(' ' + str(each) + ' ',\n",
    "                                           case = False)"
   ]
  },
  {
   "cell_type": "code",
   "execution_count": 5,
   "metadata": {},
   "outputs": [],
   "source": [
    "df['positive'] = (df['positive']=='1')"
   ]
  },
  {
   "cell_type": "code",
   "execution_count": 6,
   "metadata": {},
   "outputs": [
    {
     "name": "stdout",
     "output_type": "stream",
     "text": [
      "                                             message none none_2  positive  \\\n",
      "0                              Crust is not good.\\t0  NaN    NaN     False   \n",
      "1       Not tasty and the texture was just nasty.\\t0  NaN    NaN     False   \n",
      "2  Stopped by during the late May bank holiday of...  NaN    NaN      True   \n",
      "3  The selection on the menu was great and so wer...  NaN    NaN      True   \n",
      "4  Now I am getting angry and I want my damn pho.\\t0  NaN    NaN     False   \n",
      "5           Honeslty it didn't taste THAT fresh.)\\t0  NaN    NaN     False   \n",
      "6  The potatoes were like rubber and you could te...  NaN    NaN     False   \n",
      "7                       The fries were great too.\\t1  NaN    NaN      True   \n",
      "8                                  A great touch.\\t1  NaN    NaN      True   \n",
      "9                        Service was very prompt.\\t1  NaN    NaN      True   \n",
      "\n",
      "   excellent  tasty   love  favorite  exceptional  great   good  \n",
      "0      False  False  False     False        False  False  False  \n",
      "1      False   True  False     False        False  False  False  \n",
      "2      False  False  False     False        False  False  False  \n",
      "3      False  False  False     False        False   True  False  \n",
      "4      False  False  False     False        False  False  False  \n",
      "5      False  False  False     False        False  False  False  \n",
      "6      False  False  False     False        False  False  False  \n",
      "7      False  False  False     False        False   True  False  \n",
      "8      False  False  False     False        False   True  False  \n",
      "9      False  False  False     False        False  False  False  \n"
     ]
    }
   ],
   "source": [
    "print (df.head(10))"
   ]
  },
  {
   "cell_type": "code",
   "execution_count": 7,
   "metadata": {},
   "outputs": [
    {
     "data": {
      "text/plain": [
       "<matplotlib.axes._subplots.AxesSubplot at 0x326de30>"
      ]
     },
     "execution_count": 7,
     "metadata": {},
     "output_type": "execute_result"
    },
    {
     "data": {
      "image/png": "[encoded data removed]",
      "text/plain": [
       "<Figure size 432x288 with 2 Axes>"
      ]
     },
     "metadata": {},
     "output_type": "display_data"
    }
   ],
   "source": [
    "sns.set_style('white')\n",
    "sns.heatmap(df.corr())"
   ]
  },
  {
   "cell_type": "code",
   "execution_count": 8,
   "metadata": {},
   "outputs": [],
   "source": [
    "data = df[keywords]\n",
    "target = df['positive']"
   ]
  },
  {
   "cell_type": "code",
   "execution_count": 9,
   "metadata": {},
   "outputs": [
    {
     "name": "stdout",
     "output_type": "stream",
     "text": [
      "Total: 999, Mislabeled: 412\n"
     ]
    }
   ],
   "source": [
    "from sklearn.naive_bayes import BernoulliNB\n",
    "\n",
    "model = BernoulliNB()\n",
    "\n",
    "model.fit(data, target)\n",
    "\n",
    "y_pred = model.predict(data)\n",
    "\n",
    "print(\"Total: {}, Mislabeled: {}\".format(\n",
    "    data.shape[0], \n",
    "    (target != y_pred).sum()\n",
    "))"
   ]
  },
  {
   "cell_type": "code",
   "execution_count": 12,
   "metadata": {},
   "outputs": [
    {
     "name": "stdout",
     "output_type": "stream",
     "text": [
      "58.75875875875876\n"
     ]
    }
   ],
   "source": [
    "print(((1-(target != y_pred).sum()/data.shape[0]))*100)"
   ]
  },
  {
   "cell_type": "code",
   "execution_count": null,
   "metadata": {},
   "outputs": [],
   "source": []
  }
 ],
 "metadata": {
  "kernelspec": {
   "display_name": "Python 3",
   "language": "python",
   "name": "python3"
  },
  "language_info": {
   "codemirror_mode": {
    "name": "ipython",
    "version": 3
   },
   "file_extension": ".py",
   "mimetype": "text/x-python",
   "name": "python",
   "nbconvert_exporter": "python",
   "pygments_lexer": "ipython3",
   "version": "3.7.1"
  }
 },
 "nbformat": 4,
 "nbformat_minor": 2
}
